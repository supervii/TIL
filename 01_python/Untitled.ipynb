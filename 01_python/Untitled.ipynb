{
 "cells": [
  {
   "cell_type": "code",
   "execution_count": null,
   "metadata": {},
   "outputs": [],
   "source": [
    "def squareroot(n): \n",
    "    #제곱근 n 값을 \n",
    "    epsilon = 0.01\n",
    "    a = 0\n",
    "    b = n\n",
    "    guess = (a+b)/2.0\n",
    "    while abs(guess**2 - n) > epsilon:\n",
    "        if guess**2 < n:\n",
    "            b = guess\n",
    "        else:\n",
    "            a = guess\n",
    "        guess = (a+b)/2.0\n",
    "    return guess\n",
    "\n",
    "squareroot(5)"
   ]
  },
  {
   "cell_type": "code",
   "execution_count": null,
   "metadata": {},
   "outputs": [],
   "source": [
    "#양의정수 n을 입력받아 제곱근의 근사값(제곱했을 때 n이 되는수 ) 를 반화하는 함수를 작성"
   ]
  },
  {
   "cell_type": "code",
   "execution_count": 3,
   "metadata": {},
   "outputs": [
    {
     "name": "stdout",
     "output_type": "stream",
     "text": [
      "1.4142135623842478\n"
     ]
    }
   ],
   "source": [
    "def my_sqrt(n):\n",
    "    x, y = 1, n\n",
    "    result = 1\n",
    "    # 제곱근의 제곱과 입력 ㄱㅄ 의 차이가 적어도 이 정도 차이보다 작아지면\n",
    "    while abs(result**2 - n) > 1e-10: #0.0000000001\n",
    "        result = (x+y)/2 #양쪽 끝값을 더해서 2로 나눈다.\n",
    "        #위 근사치에 따라 x 또는 y 의 값을 바꾼다\n",
    "        if result**2 < n:\n",
    "            x = result\n",
    "        else:\n",
    "            y = result\n",
    "    return result\n",
    "\n",
    "print(my_sqrt(2))\n",
    "    "
   ]
  },
  {
   "cell_type": "code",
   "execution_count": null,
   "metadata": {},
   "outputs": [],
   "source": []
  }
 ],
 "metadata": {
  "kernelspec": {
   "display_name": "Python 3",
   "language": "python",
   "name": "python3"
  },
  "language_info": {
   "codemirror_mode": {
    "name": "ipython",
    "version": 3
   },
   "file_extension": ".py",
   "mimetype": "text/x-python",
   "name": "python",
   "nbconvert_exporter": "python",
   "pygments_lexer": "ipython3",
   "version": "3.7.3"
  },
  "toc": {
   "base_numbering": 1,
   "nav_menu": {},
   "number_sections": true,
   "sideBar": true,
   "skip_h1_title": false,
   "title_cell": "Table of Contents",
   "title_sidebar": "Contents",
   "toc_cell": false,
   "toc_position": {},
   "toc_section_display": true,
   "toc_window_display": false
  }
 },
 "nbformat": 4,
 "nbformat_minor": 2
}
